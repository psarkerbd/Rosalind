{
 "cells": [
  {
   "cell_type": "code",
   "execution_count": 29,
   "metadata": {},
   "outputs": [
    {
     "name": "stdout",
     "output_type": "stream",
     "text": [
      "34 3\n",
      "574888488199\n"
     ]
    }
   ],
   "source": [
    "def fibo(n,k):\n",
    "    if(n==1 or n==1):\n",
    "        return dp[n];\n",
    "    if(dp[n] != -1):\n",
    "        return dp[n];\n",
    "    else:\n",
    "        dp[n] = fibo(n-1, k) + (k * fibo(n-2, k));\n",
    "        return dp[n];\n",
    "\n",
    "def main():\n",
    "    global dp;\n",
    "    theinput = input().split(\" \");\n",
    "    n=int(theinput[0]);\n",
    "    k=int(theinput[1]);\n",
    "    #print(type(n), type(k));\n",
    "    dp=[-1 for i in range(n+1)];\n",
    "    dp[0] = dp[1] = 1;\n",
    "    fibo(n,k);\n",
    "    print(dp[n-1]);\n",
    "    \n",
    "    \n",
    "main();"
   ]
  },
  {
   "cell_type": "code",
   "execution_count": null,
   "metadata": {
    "collapsed": true
   },
   "outputs": [],
   "source": []
  }
 ],
 "metadata": {
  "kernelspec": {
   "display_name": "Python 3",
   "language": "python",
   "name": "python3"
  },
  "language_info": {
   "codemirror_mode": {
    "name": "ipython",
    "version": 3
   },
   "file_extension": ".py",
   "mimetype": "text/x-python",
   "name": "python",
   "nbconvert_exporter": "python",
   "pygments_lexer": "ipython3",
   "version": "3.6.1"
  }
 },
 "nbformat": 4,
 "nbformat_minor": 2
}
