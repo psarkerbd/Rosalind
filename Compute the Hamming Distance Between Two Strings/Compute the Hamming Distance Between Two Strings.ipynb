{
 "cells": [
  {
   "cell_type": "code",
   "execution_count": 17,
   "metadata": {},
   "outputs": [
    {
     "name": "stdout",
     "output_type": "stream",
     "text": [
      "777\n"
     ]
    }
   ],
   "source": [
    "def file_input():\n",
    "    par = 1;\n",
    "    with open ('input.txt', 'r') as f:\n",
    "        line = f.readlines();\n",
    "        string1 = string2 = string = \"\";\n",
    "        for i in range(len(line)):\n",
    "            for j in range(len(line[i])):\n",
    "                if(line[i][j] != '\\n'):\n",
    "                    string += line[i][j];\n",
    "            if(par==1):\n",
    "                string1 = string;\n",
    "                string = \"\";\n",
    "                par = 2;\n",
    "            else:\n",
    "                string2 = string;\n",
    "                string=\"\";\n",
    "    dh = 0;\n",
    "    for i in range(len(string1)):\n",
    "        if(string1[i] != string2[i]):\n",
    "            dh += 1;\n",
    "    print(dh);\n",
    "\n",
    "def main():\n",
    "    file_input();\n",
    "main();"
   ]
  },
  {
   "cell_type": "code",
   "execution_count": null,
   "metadata": {
    "collapsed": true
   },
   "outputs": [],
   "source": []
  }
 ],
 "metadata": {
  "kernelspec": {
   "display_name": "Python 3",
   "language": "python",
   "name": "python3"
  },
  "language_info": {
   "codemirror_mode": {
    "name": "ipython",
    "version": 3
   },
   "file_extension": ".py",
   "mimetype": "text/x-python",
   "name": "python",
   "nbconvert_exporter": "python",
   "pygments_lexer": "ipython3",
   "version": "3.6.1"
  }
 },
 "nbformat": 4,
 "nbformat_minor": 2
}
